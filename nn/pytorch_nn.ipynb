{
 "cells": [
  {
   "cell_type": "code",
   "execution_count": 1,
   "metadata": {},
   "outputs": [],
   "source": [
    "import sys\n",
    "sys.path.append('../../')\n",
    "\n",
    "import pandas as pd\n",
    "import numpy as np\n",
    "import matplotlib.pyplot as plt\n",
    "import torch\n",
    "from torch.autograd import Variable\n",
    "from sklearn.metrics import accuracy_score\n",
    "from mnist_reader import load_mnist_df,show_mnist_image\n",
    "\n",
    "seed = 128\n",
    "rng = np.random.RandomState(seed)"
   ]
  },
  {
   "cell_type": "markdown",
   "metadata": {},
   "source": [
    "### prepping the input data"
   ]
  },
  {
   "cell_type": "code",
   "execution_count": 2,
   "metadata": {},
   "outputs": [
    {
     "data": {
      "image/png": "[encoded data removed]",
      "text/plain": [
       "<Figure size 432x288 with 1 Axes>"
      ]
     },
     "metadata": {
      "needs_background": "light"
     },
     "output_type": "display_data"
    }
   ],
   "source": [
    "train_df = load_mnist_df('../../data/')\n",
    "test_df = load_mnist_df('../../data/', test = True)\n",
    "show_mnist_image(train_df,index=0)"
   ]
  },
  {
   "cell_type": "code",
   "execution_count": 4,
   "metadata": {},
   "outputs": [],
   "source": [
    "X_train = np.array(train_df.drop('label', axis=1).astype('int8'))\n",
    "X_train = X_train.astype('float32')/255\n",
    "y_train = np.array(train_df.label)\n",
    "\n",
    "X_test = np.array(test_df.drop('label', axis=1).astype('int8'))\n",
    "X_test = X_test.astype('float32')/255\n",
    "y_test = np.array(test_df.label)"
   ]
  },
  {
   "cell_type": "code",
   "execution_count": 5,
   "metadata": {},
   "outputs": [],
   "source": [
    "split_size = int(X_train.shape[0]*0.7)\n",
    "\n",
    "X_train, X_val = X_train[:split_size], X_train[split_size:]\n",
    "y_train, y_val = y_train[:split_size], y_train[split_size:]"
   ]
  },
  {
   "cell_type": "markdown",
   "metadata": {},
   "source": [
    "### setting up the model"
   ]
  },
  {
   "cell_type": "code",
   "execution_count": 12,
   "metadata": {},
   "outputs": [],
   "source": [
    "# number of neurons in each layer\n",
    "input_num_units = 28*28\n",
    "hidden_num_units = 500\n",
    "output_num_units = 10\n",
    "\n",
    "# set remaining variables\n",
    "epochs = 30\n",
    "batch_size = 128\n",
    "learning_rate = 0.001\n",
    "\n",
    "model = torch.nn.Sequential(torch.nn.Linear(input_num_units, hidden_num_units),\n",
    "                            torch.nn.ReLU(),\n",
    "                            torch.nn.Linear(hidden_num_units, output_num_units))\n",
    "\n",
    "loss_fn = torch.nn.CrossEntropyLoss()\n",
    "\n",
    "# define optimization algorithm\n",
    "optimizer = torch.optim.Adam(model.parameters(), lr=learning_rate)"
   ]
  },
  {
   "cell_type": "code",
   "execution_count": 13,
   "metadata": {},
   "outputs": [],
   "source": [
    "## helper functions\n",
    "# preprocess a batch of dataset\n",
    "def preproc(unclean_batch_x):\n",
    "  \"\"\"Convert values to range 0-1\"\"\"\n",
    "  temp_batch = unclean_batch_x / unclean_batch_x.max()\n",
    " \n",
    "  return temp_batch\n",
    "\n",
    "# create a batch\n",
    "def batch_creator(X_train, y_train, batch_size):\n",
    "  dataset_length = X_train.shape[0]\n",
    "  \n",
    "  batch_mask = rng.choice(dataset_length, batch_size)\n",
    "  \n",
    "  batch_x = X_train[batch_mask]\n",
    "  batch_x = preproc(batch_x)\n",
    "  \n",
    "  batch_y = y_train[batch_mask]\n",
    "  \n",
    "  return batch_x, batch_y"
   ]
  },
  {
   "cell_type": "markdown",
   "metadata": {},
   "source": [
    "### Running the model"
   ]
  },
  {
   "cell_type": "code",
   "execution_count": 14,
   "metadata": {},
   "outputs": [
    {
     "name": "stdout",
     "output_type": "stream",
     "text": [
      "0 3.264077765549101\n",
      "1 4.3892939425096245\n",
      "2 4.642940652079701\n",
      "3 7.192736000549504\n",
      "4 10.168386869314242\n",
      "5 11.734956329915578\n",
      "6 10.783993816957244\n",
      "7 11.513508369282984\n",
      "8 11.954945296049113\n",
      "9 10.883191838497064\n",
      "10 11.547617548849525\n",
      "11 12.87051050692069\n",
      "12 12.959263377073336\n",
      "13 13.698114020068468\n",
      "14 13.971728878777196\n",
      "15 14.54022736447613\n",
      "16 13.812530781437694\n",
      "17 12.501533528653587\n",
      "18 12.393848765187146\n",
      "19 12.487312364142111\n",
      "20 12.731521413820547\n",
      "21 11.667189348761635\n",
      "22 9.784347445499597\n",
      "23 10.132019277752896\n",
      "24 9.754972421541451\n",
      "25 9.28615596672383\n",
      "26 9.10031210467583\n",
      "27 8.717291559751441\n",
      "28 8.493330669112318\n",
      "29 7.919751144582175\n"
     ]
    }
   ],
   "source": [
    "# train network\n",
    "total_batch = int(X_train.shape[0]/batch_size)\n",
    "\n",
    "for epoch in range(epochs):\n",
    "  avg_cost = 0\n",
    "  for i in range(total_batch):\n",
    "    # create batches\n",
    "    batch_x, batch_y = batch_creator(X_train,y_train,batch_size)\n",
    "\n",
    "    # pass that batch for training\n",
    "    x, y = Variable(torch.from_numpy(batch_x)), Variable(torch.from_numpy(batch_y), requires_grad=False)\n",
    "    pred = model(x)\n",
    "\n",
    "    # get loss\n",
    "    loss = loss_fn(pred, y)\n",
    "\n",
    "    # perform backpropagation\n",
    "    loss.backward()\n",
    "    optimizer.step()\n",
    "    avg_cost += loss.data.item()/total_batch\n",
    "\n",
    "  print(epoch, avg_cost)"
   ]
  },
  {
   "cell_type": "code",
   "execution_count": 15,
   "metadata": {},
   "outputs": [
    {
     "data": {
      "text/plain": [
       "0.9372380952380952"
      ]
     },
     "execution_count": 15,
     "metadata": {},
     "output_type": "execute_result"
    }
   ],
   "source": [
    "# testing set accuracy\n",
    "x, y = Variable(torch.from_numpy(preproc(X_train))), Variable(torch.from_numpy(y_train), requires_grad=False)\n",
    "pred = model(x)\n",
    "\n",
    "final_pred = np.argmax(pred.data.numpy(), axis=1)\n",
    "\n",
    "accuracy_score(y_train, final_pred)"
   ]
  },
  {
   "cell_type": "code",
   "execution_count": 57,
   "metadata": {},
   "outputs": [
    {
     "data": {
      "text/plain": [
       "0.5713333333333334"
      ]
     },
     "execution_count": 57,
     "metadata": {},
     "output_type": "execute_result"
    }
   ],
   "source": [
    "# get validation accuracy\n",
    "x, y = Variable(torch.from_numpy(preproc(X_val))), Variable(torch.from_numpy(y_val), requires_grad=False)\n",
    "pred = model(x)\n",
    "final_pred = np.argmax(pred.data.numpy(), axis=1)\n",
    "\n",
    "accuracy_score(y_val, final_pred)"
   ]
  },
  {
   "cell_type": "markdown",
   "metadata": {},
   "source": [
    "### viewing results"
   ]
  },
  {
   "cell_type": "code",
   "execution_count": 59,
   "metadata": {},
   "outputs": [
    {
     "name": "stdout",
     "output_type": "stream",
     "text": [
      "neural network predicts  2 this is  True\n"
     ]
    },
    {
     "data": {
      "image/png": "[encoded data removed]",
      "text/plain": [
       "<Figure size 432x288 with 1 Axes>"
      ]
     },
     "metadata": {
      "needs_background": "light"
     },
     "output_type": "display_data"
    }
   ],
   "source": [
    "\"\"\"\n",
    "viewing specific test cases\n",
    "\"\"\"\n",
    "test_index = np.random.randint(0,len(X_test))\n",
    "x = Variable(torch.from_numpy(preproc(X_test[test_index])))\n",
    "pred = model(x)\n",
    "final_pred = np.argmax(pred.data.numpy())\n",
    "\n",
    "print('neural network predicts ', final_pred,'this is ', final_pred == y_test[test_index])\n",
    "show_mnist_image(test_df, index = test_index)"
   ]
  },
  {
   "cell_type": "code",
   "execution_count": null,
   "metadata": {},
   "outputs": [],
   "source": []
  }
 ],
 "metadata": {
  "kernelspec": {
   "display_name": "Python 3",
   "language": "python",
   "name": "python3"
  },
  "language_info": {
   "codemirror_mode": {
    "name": "ipython",
    "version": 3
   },
   "file_extension": ".py",
   "mimetype": "text/x-python",
   "name": "python",
   "nbconvert_exporter": "python",
   "pygments_lexer": "ipython3",
   "version": "3.6.7"
  }
 },
 "nbformat": 4,
 "nbformat_minor": 2
}
